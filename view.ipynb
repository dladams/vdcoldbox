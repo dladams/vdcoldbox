{
 "cells": [
  {
   "cell_type": "markdown",
   "id": "ed8eee9e-9559-46bb-9e69-725795c3e2da",
   "metadata": {},
   "source": [
    "Viewer for png files. Config params:\n",
    "* dbg - 1 to display title, 2 also list png files, 3 lists all files\n",
    "* nshow - Max number of images to display on the page (1 APA is 320 files with 8 channels)\n",
    "* page - Page number 0 has first nshow, 1 has next nshow, ...\n",
    "* nskip - Explicit number of images to skip. Default is calculated from page and nshow.\n",
    "* dir - Directory where images are found. Current is the default."
   ]
  },
  {
   "cell_type": "code",
   "execution_count": 1,
   "id": "63c0499c-0114-4942-839e-96377cfbe78c",
   "metadata": {},
   "outputs": [
    {
     "name": "stdout",
     "output_type": "stream",
     "text": [
      "No images found in /home/dladams/proc/run01/hdcoldbox\n"
     ]
    }
   ],
   "source": [
    "import os\n",
    "from IPython.display import Image\n",
    "\n",
    "# Configure.\n",
    "dbg = 1\n",
    "nshow = 500\n",
    "page = 0\n",
    "nskip = page*nshow\n",
    "dir = os.getcwd()\n",
    "\n",
    "# Find ithe png files.\n",
    "allfils = os.listdir(dir)\n",
    "fils = []\n",
    "for fil in allfils:\n",
    "    if fil[-4:] == '.png':\n",
    "        if dbg >= 2: print(f\"Keeping {fil}\")\n",
    "        fils.append(fil)\n",
    "    else:\n",
    "        if dbg >= 3: print(f\"Skipping {fil}\")\n",
    "fils.sort()\n",
    "\n",
    "# Skip nskip and show nshow\n",
    "if nskip > 0:\n",
    "    fils = fils[nskip:]\n",
    "nrem = len(fils) - nshow\n",
    "if nrem < 0: nrem = 0\n",
    "if nrem:\n",
    "    fils = fils[0:nshow]\n",
    "    \n",
    "# Build and show title.\n",
    "if len(fils):\n",
    "    sttl = f\"Images from {dir}\"\n",
    "    if nskip or nrem:\n",
    "        sttl += \" (\"\n",
    "        if nskip:\n",
    "            sttl += f\"{nskip} skipped\"\n",
    "            if nrem:\n",
    "                sttl += ', '\n",
    "        if nrem:\n",
    "            sttl += f\"{nrem} remaining\"\n",
    "        sttl += ')'\n",
    "else:\n",
    "    sttl = f\"No images found in {dir}\"\n",
    "print(sttl)\n",
    "\n",
    "# Display images.\n",
    "for bas in fils:\n",
    "    fil = dir + '/' + bas\n",
    "    display(Image(filename=fil))"
   ]
  },
  {
   "cell_type": "code",
   "execution_count": null,
   "id": "24c3c6fa-f7d3-49b1-8af5-70f01d41584b",
   "metadata": {},
   "outputs": [],
   "source": []
  }
 ],
 "metadata": {
  "kernelspec": {
   "display_name": "Python 3 (ipykernel)",
   "language": "python",
   "name": "python3"
  },
  "language_info": {
   "codemirror_mode": {
    "name": "ipython",
    "version": 3
   },
   "file_extension": ".py",
   "mimetype": "text/x-python",
   "name": "python",
   "nbconvert_exporter": "python",
   "pygments_lexer": "ipython3",
   "version": "3.8.6"
  }
 },
 "nbformat": 4,
 "nbformat_minor": 5
}
